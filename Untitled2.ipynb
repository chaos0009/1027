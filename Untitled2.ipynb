{
  "nbformat": 4,
  "nbformat_minor": 0,
  "metadata": {
    "colab": {
      "provenance": [],
      "authorship_tag": "ABX9TyNnD2x+jepEXaDUWCX1/k/M",
      "include_colab_link": true
    },
    "kernelspec": {
      "name": "python3",
      "display_name": "Python 3"
    },
    "language_info": {
      "name": "python"
    }
  },
  "cells": [
    {
      "cell_type": "markdown",
      "metadata": {
        "id": "view-in-github",
        "colab_type": "text"
      },
      "source": [
        "<a href=\"https://colab.research.google.com/github/chaos0009/1027/blob/main/Untitled2.ipynb\" target=\"_parent\"><img src=\"https://colab.research.google.com/assets/colab-badge.svg\" alt=\"Open In Colab\"/></a>"
      ]
    },
    {
      "cell_type": "code",
      "execution_count": null,
      "metadata": {
        "colab": {
          "base_uri": "https://localhost:8080/"
        },
        "id": "YhVv1kLFF7pt",
        "outputId": "d380c762-7334-4480-c8d4-aa1e18d9e9c9"
      },
      "outputs": [
        {
          "output_type": "stream",
          "name": "stdout",
          "text": [
            "\n",
            "您想查詢什麼？(藥方名稱/出典/處方/效能/適應症/退出查詢)：叁蘇飲\n",
            "輸入無效，請重新輸入。\n",
            "\n",
            "您想查詢什麼？(藥方名稱/出典/處方/效能/適應症/退出查詢)：出典\n",
            "叁蘇飲的出典為:太平惠民和劑方局\n"
          ]
        }
      ],
      "source": [
        "#定義叁蘇飲的資料\n",
        "prescription = {\n",
        "    '名稱': '叁蘇飲',\n",
        "    '出典': '太平惠民和劑方局',\n",
        "    '處方': {\n",
        "        '陳皮': 2,  # 公克\n",
        "        '枳殼': 2,\n",
        "        '桔梗': 2,\n",
        "        '甘草': 2,\n",
        "        '木香': 2,\n",
        "        '半夏': 3,\n",
        "        '紫蘇葉': 3,\n",
        "        '葛根': 3,\n",
        "        '前胡': 3,\n",
        "        '人參': 3,\n",
        "        '茯苓': 3,\n",
        "        '生薑': 2,\n",
        "        '大棗': 1,\n",
        "\n",
        "    },\n",
        "    '效能': '益氣解表,宣肺化痰',\n",
        "    '適應症': ['體虛感冒', '惡寒發熱', '頭痛鼻塞', '咳嗽痰多', ]\n",
        "}\n",
        "\n",
        "# 使用 while 迴圈提供查詢服務\n",
        "while True:\n",
        "    query = input(\"\\n您想查詢什麼？(藥方名稱/出典/處方/效能/適應症/退出查詢)：\")\n",
        "\n",
        "    if query == \"藥方名稱\":\n",
        "        print(f\"{prescription['名稱']}\")\n",
        "    elif query == \"出典\":\n",
        "        print(f\"{prescription['名稱']}的出典為:{prescription['出典']}\")\n",
        "    elif query == \"適應症\":\n",
        "        print(f\"{prescription['名稱']}的適應症有:\")\n",
        "        for symptom in prescription['適應症']:\n",
        "            print(symptom)\n",
        "    elif query == \"處方\":\n",
        "        total_weight = sum(prescription['處方'].values())\n",
        "        print(f\"{prescription['名稱']}的處方為:\")\n",
        "        for medicine, weight in prescription['處方'].items():\n",
        "            print(f\"{medicine}：{weight}公克\")\n",
        "        print(f\"總克數為：{total_weight}公克\")\n",
        "    elif query == \"效能\":\n",
        "        print(f\"{prescription['名稱']}的效能是:{prescription['效能']}\")\n",
        "    elif query == \"退出查詢\":\n",
        "        print(\"感謝使用，再見！\")\n",
        "        break\n",
        "    else:\n",
        "        print(\"輸入無效，請重新輸入。\")"
      ]
    }
  ]
}